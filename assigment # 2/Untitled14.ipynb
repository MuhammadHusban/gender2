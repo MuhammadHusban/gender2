{
 "cells": [
  {
   "cell_type": "code",
   "execution_count": 1,
   "id": "d8ff3821",
   "metadata": {},
   "outputs": [
    {
     "name": "stdout",
     "output_type": "stream",
     "text": [
      "Grade A\n"
     ]
    }
   ],
   "source": [
    "percent = 72\n",
    "if percent <= 100 and percent > 80: \n",
    "    print(\"Grade A+\")\n",
    "elif percent <= 80 and percent > 70:\n",
    "    print(\"Grade A\")\n",
    "elif percent <= 70 and percent > 60:\n",
    "    print(\"Grade B\")\n",
    "elif percent <= 60 and percent > 50:\n",
    "    print(\"Grade C\")\n",
    "elif percent <= 50 and percent > 40:\n",
    "    print(\"Grade D\")\n",
    "else:\n",
    "    percent <= 40\n",
    "    print(\"Fail\")"
   ]
  },
  {
   "cell_type": "code",
   "execution_count": null,
   "id": "73c6acb6",
   "metadata": {},
   "outputs": [],
   "source": [
    "percent = input(\"percetage: \")\n",
    "if int (percent) <= 100 and int (percent) > 80:\n",
    "    print(\"Grade A+\")\n",
    "elif int (percent) <= 80 and int (percent) > 70:\n",
    "    print(\"Grade A\")\n",
    "elif int (percent) <= 70 and int (percent) > 60:\n",
    "    print(\"Grade B\")\n",
    "elif int (percent) <= 60 and int (percent) > 50:\n",
    "    print(\"Grade C\")\n",
    "elif int (percent) <= 50 and int (percent) > 40:\n",
    "    print(\"Grade D\")\n",
    "else:\n",
    "    int (percent) <= 40\n",
    "    print(\"Fail\") "
   ]
  },
  {
   "cell_type": "code",
   "execution_count": null,
   "id": "7a5e4f0f",
   "metadata": {},
   "outputs": [],
   "source": []
  },
  {
   "cell_type": "code",
   "execution_count": null,
   "id": "ec804eec",
   "metadata": {},
   "outputs": [],
   "source": []
  }
 ],
 "metadata": {
  "kernelspec": {
   "display_name": "Python 3",
   "language": "python",
   "name": "python3"
  },
  "language_info": {
   "codemirror_mode": {
    "name": "ipython",
    "version": 3
   },
   "file_extension": ".py",
   "mimetype": "text/x-python",
   "name": "python",
   "nbconvert_exporter": "python",
   "pygments_lexer": "ipython3",
   "version": "3.8.8"
  }
 },
 "nbformat": 4,
 "nbformat_minor": 5
}
